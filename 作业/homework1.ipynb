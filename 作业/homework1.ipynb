{
 "cells": [
  {
   "cell_type": "code",
   "execution_count": 3,
   "metadata": {},
   "outputs": [
    {
     "name": "stdout",
     "output_type": "stream",
     "text": [
      "★★★★★★★★★★★★★\n",
      "★数据科学与工程导论★\n",
      "★★★★★★★★★★★★★\n"
     ]
    }
   ],
   "source": [
    "#第一题\n",
    "print(chr(0x2605)*13)\n",
    "print(chr(0x2605),end='')\n",
    "print(\"数据科学与工程导论\",end='')\n",
    "print(chr(0x2605))\n",
    "print(chr(0x2605)*13)"
   ]
  },
  {
   "cell_type": "code",
   "execution_count": 7,
   "metadata": {},
   "outputs": [
    {
     "name": "stdout",
     "output_type": "stream",
     "text": [
      "17 19 23\n"
     ]
    }
   ],
   "source": [
    "#第二题\n",
    "#输入示例x=19,y=23,z=17\n",
    "x=eval(input())\n",
    "y=eval(input())\n",
    "z=eval(input())\n",
    "a=[x,y,z]\n",
    "a=sorted(a)\n",
    "print(a[0],a[1],a[2])"
   ]
  },
  {
   "cell_type": "code",
   "execution_count": 8,
   "metadata": {},
   "outputs": [
    {
     "name": "stdout",
     "output_type": "stream",
     "text": [
      "81 45 30 27\n"
     ]
    }
   ],
   "source": [
    "#第三题\n",
    "#输入示例w=27,x=45,y=81,z=30\n",
    "w=eval(input())\n",
    "x=eval(input())\n",
    "y=eval(input())\n",
    "z=eval(input())\n",
    "a=[w,x,y,z]\n",
    "a=sorted(a,reverse=True)\n",
    "print(a[0],a[1],a[2],a[3])"
   ]
  },
  {
   "cell_type": "code",
   "execution_count": 9,
   "metadata": {},
   "outputs": [
    {
     "name": "stdout",
     "output_type": "stream",
     "text": [
      "1 3 5 7 9 11 13 15 17 19 21 23 25 27 29 31 33 35 37 39 41 43 45 47 49 51 53 55 57 59 61 63 65 67 69 71 73 75 77 79 81 83 85 87 89 91 93 95 97 99 "
     ]
    }
   ],
   "source": [
    "#第四题\n",
    "for i in range(1,101):\n",
    "    if i%2==1:print(i,end=' ')"
   ]
  },
  {
   "cell_type": "code",
   "execution_count": 10,
   "metadata": {},
   "outputs": [
    {
     "name": "stdout",
     "output_type": "stream",
     "text": [
      "5050\n"
     ]
    }
   ],
   "source": [
    "#第五题\n",
    "s=0\n",
    "for i in range(1,101):\n",
    "    s+=i\n",
    "print(s)"
   ]
  },
  {
   "cell_type": "code",
   "execution_count": 18,
   "metadata": {},
   "outputs": [
    {
     "name": "stdout",
     "output_type": "stream",
     "text": [
      "[5, 4, 3, 2, 1]\n"
     ]
    }
   ],
   "source": [
    "#第六题\n",
    "L=[1,2,3,4,5]#输入示例\n",
    "for i in range(len(L)-1,0,-1):\n",
    "    for j in range(i):\n",
    "        if L[j]<L[j+1]:\n",
    "            L[j],L[j+1]=L[j+1],L[j]\n",
    "print(L)\n"
   ]
  },
  {
   "cell_type": "code",
   "execution_count": 19,
   "metadata": {},
   "outputs": [
    {
     "name": "stdout",
     "output_type": "stream",
     "text": [
      "[5, 4, 3, 2, 1]\n"
     ]
    }
   ],
   "source": [
    "#第六题\n",
    "L=[1,2,3,4,5]#输入示例\n",
    "i=len(L)-1\n",
    "while i>0:\n",
    "    j=0\n",
    "    while j<i:\n",
    "        if L[j]<L[j+1]:\n",
    "            L[j],L[j+1]=L[j+1],L[j]\n",
    "        j+=1\n",
    "    i-=1\n",
    "print(L)"
   ]
  },
  {
   "cell_type": "code",
   "execution_count": 20,
   "metadata": {},
   "outputs": [
    {
     "name": "stdout",
     "output_type": "stream",
     "text": [
      "包含两个或两个以上连续出现的相同字符组成的字符串\n"
     ]
    }
   ],
   "source": [
    "#第七题\n",
    "s=\"abccccda\"#输入示例\n",
    "length=len(s)\n",
    "flag=0\n",
    "for i in range(1,length):\n",
    "    if s[i]==s[i-1]:\n",
    "        print(\"包含两个或两个以上连续出现的相同字符组成的字符串\")\n",
    "        flag=1\n",
    "        break\n",
    "if flag==0:\n",
    "    print(\"不包含两个或两个以上连续出现的相同字符组成的字符串\")\n"
   ]
  },
  {
   "cell_type": "code",
   "execution_count": 21,
   "metadata": {},
   "outputs": [
    {
     "name": "stdout",
     "output_type": "stream",
     "text": [
      "DataScienceandEngineering\n"
     ]
    }
   ],
   "source": [
    "#第八题\n",
    "s=\"DataScience and Engineering\"#输入示例\n",
    "s=s.replace(' ','')\n",
    "print(s)"
   ]
  },
  {
   "cell_type": "code",
   "execution_count": 9,
   "metadata": {},
   "outputs": [
    {
     "name": "stdout",
     "output_type": "stream",
     "text": [
      "-1.65063\n"
     ]
    }
   ],
   "source": [
    "#第九题\n",
    "#输入示例a,b,c,d=1,2,3,4\n",
    "a=eval(input(\"三次项系数\"))\n",
    "b=eval(input(\"二次项系数\"))\n",
    "c=eval(input(\"一次项系数\"))\n",
    "d=eval(input(\"常数项\"))\n",
    "x=-b/(3*a)\n",
    "for i in range(100):\n",
    "    x=x-(a*x*x*x+b*x*x+c*x+d)/(3*a*x*x+2*b*x+c)\n",
    "print(round(x,5))"
   ]
  },
  {
   "cell_type": "code",
   "execution_count": 6,
   "metadata": {},
   "outputs": [
    {
     "name": "stdout",
     "output_type": "stream",
     "text": [
      "120\n"
     ]
    }
   ],
   "source": [
    "#第十题\n",
    "#输入示例n=5\n",
    "n=eval(input(\"请输入n\"))\n",
    "s=1\n",
    "for i in range(1,n+1):\n",
    "    s*=i\n",
    "print(s)"
   ]
  }
 ],
 "metadata": {
  "kernelspec": {
   "display_name": "Python 3",
   "language": "python",
   "name": "python3"
  },
  "language_info": {
   "codemirror_mode": {
    "name": "ipython",
    "version": 3
   },
   "file_extension": ".py",
   "mimetype": "text/x-python",
   "name": "python",
   "nbconvert_exporter": "python",
   "pygments_lexer": "ipython3",
   "version": "3.12.4"
  }
 },
 "nbformat": 4,
 "nbformat_minor": 2
}
