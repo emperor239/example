{
 "cells": [
  {
   "cell_type": "code",
   "execution_count": 40,
   "metadata": {},
   "outputs": [
    {
     "name": "stdout",
     "output_type": "stream",
     "text": [
      "6\n"
     ]
    }
   ],
   "source": [
    "#第一题\n",
    "#输入12 30\n",
    "import math\n",
    "x=eval(input())\n",
    "y=eval(input())\n",
    "z=math.gcd(x,y)\n",
    "print(z)"
   ]
  },
  {
   "cell_type": "code",
   "execution_count": 41,
   "metadata": {},
   "outputs": [
    {
     "name": "stdout",
     "output_type": "stream",
     "text": [
      "良好\n"
     ]
    }
   ],
   "source": [
    "#第二题\n",
    "#输入85\n",
    "score=eval(input())\n",
    "if score<60:\n",
    "    print(\"不合格\")\n",
    "elif score<75:\n",
    "    print(\"合格\")\n",
    "elif score<90:\n",
    "    print(\"良好\")\n",
    "else:\n",
    "    print(\"优秀\")"
   ]
  },
  {
   "cell_type": "code",
   "execution_count": 42,
   "metadata": {},
   "outputs": [
    {
     "name": "stdout",
     "output_type": "stream",
     "text": [
      "1100.11100110011001100110"
     ]
    }
   ],
   "source": [
    "#第三题\n",
    "#二进制位输出到20位\n",
    "#输入12.9\n",
    "x=eval(input())\n",
    "integer=int(x)\n",
    "a=[]\n",
    "while integer!=0:\n",
    "    a.append(integer%2)\n",
    "    integer=int(integer/2)\n",
    "a=a[::-1]\n",
    "print(\"\".join(str(num)for num in a),end=\".\")\n",
    "#print(bin(integer),end=\".\")\n",
    "fraction=x%1\n",
    "for i in range(20):\n",
    "    print(int(fraction*2),end=\"\")\n",
    "    fraction=(fraction*2)%1\n",
    "     \n"
   ]
  },
  {
   "cell_type": "code",
   "execution_count": 43,
   "metadata": {},
   "outputs": [
    {
     "name": "stdout",
     "output_type": "stream",
     "text": [
      "19.630037649529754\n"
     ]
    }
   ],
   "source": [
    "#第四题\n",
    "import random\n",
    "print(random.uniform(10,20))"
   ]
  },
  {
   "cell_type": "code",
   "execution_count": 44,
   "metadata": {},
   "outputs": [
    {
     "name": "stdout",
     "output_type": "stream",
     "text": [
      "是回文数\n"
     ]
    }
   ],
   "source": [
    "#第五题\n",
    "#输入1234554321\n",
    "def palindromic(positive):\n",
    "    negative=positive[::-1]\n",
    "    if positive==negative:\n",
    "        print(\"是回文数\")\n",
    "    else:\n",
    "        print(\"不是回文数\")\n",
    "    return\n",
    "\n",
    "positive=input()\n",
    "palindromic(positive)\n",
    "\n"
   ]
  },
  {
   "cell_type": "code",
   "execution_count": 46,
   "metadata": {},
   "outputs": [
    {
     "name": "stdout",
     "output_type": "stream",
     "text": [
      "[0, 1, 1, 2, 3, 5, 8, 13]\n"
     ]
    }
   ],
   "source": [
    "#第六题\n",
    "#输入8\n",
    "def fibonacci(N):\n",
    "    a,b=0,1\n",
    "    show=[0,1]\n",
    "    for i in range(N-2):\n",
    "        show.append(a+b)\n",
    "        a,b=b,a+b\n",
    "        # t=b\n",
    "        # b=a+b\n",
    "        # a=t\n",
    "    print(show)\n",
    "\n",
    "N=int(input())\n",
    "fibonacci(N)   "
   ]
  },
  {
   "cell_type": "code",
   "execution_count": 47,
   "metadata": {},
   "outputs": [
    {
     "name": "stdout",
     "output_type": "stream",
     "text": [
      "7\n"
     ]
    }
   ],
   "source": [
    "#第七题\n",
    "#输入5\n",
    "#输入1 3 5 7 9\n",
    "def second_max(N):\n",
    "    a=[]\n",
    "    for i in range(N):\n",
    "        a.append(int(input()))\n",
    "    if N<=1:\n",
    "        print(-1)\n",
    "    max1=max(a)\n",
    "    a.remove(max1)\n",
    "    print(max(a))\n",
    "\n",
    "N=int(input())\n",
    "second_max(N)"
   ]
  },
  {
   "cell_type": "code",
   "execution_count": 48,
   "metadata": {},
   "outputs": [
    {
     "name": "stdout",
     "output_type": "stream",
     "text": [
      "合法\n"
     ]
    }
   ],
   "source": [
    "#第八题\n",
    "#输入31011520000101111x\n",
    "import re\n",
    "\n",
    "def validate_id_card(id):\n",
    "    id_pattern=r\"^[1-9]\\d{5}(19|20)\\d{2}(0[1-9]|1[0-2])(0[1-9]|[1-2]\\d|3[0-1])\\d{3}(\\d|X|x)$\"\n",
    "    #print(re.match(id_pattern,id))\n",
    "    #r用在字符串前，作用是规避反斜杠转义，常用于正则表达式、系统路径\n",
    "    if re.match(id_pattern,id):\n",
    "        print(\"合法\")\n",
    "    else:\n",
    "        print(\"非法\")\n",
    "\n",
    "id=input()\n",
    "validate_id_card(id)"
   ]
  }
 ],
 "metadata": {
  "kernelspec": {
   "display_name": "Python 3",
   "language": "python",
   "name": "python3"
  },
  "language_info": {
   "codemirror_mode": {
    "name": "ipython",
    "version": 3
   },
   "file_extension": ".py",
   "mimetype": "text/x-python",
   "name": "python",
   "nbconvert_exporter": "python",
   "pygments_lexer": "ipython3",
   "version": "3.12.4"
  }
 },
 "nbformat": 4,
 "nbformat_minor": 2
}
