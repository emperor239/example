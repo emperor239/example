{
 "cells": [
  {
   "cell_type": "code",
   "execution_count": 1,
   "metadata": {},
   "outputs": [
    {
     "name": "stderr",
     "output_type": "stream",
     "text": [
      "C:\\Users\\32845\\AppData\\Local\\Temp\\ipykernel_1608\\2946800432.py:10: FutureWarning: Calling float on a single element Series is deprecated and will raise a TypeError in the future. Use float(ser.iloc[0]) instead\n",
      "  data[column]=data[column].fillna(float(mode_value))\n",
      "C:\\Users\\32845\\AppData\\Local\\Temp\\ipykernel_1608\\2946800432.py:10: FutureWarning: Calling float on a single element Series is deprecated and will raise a TypeError in the future. Use float(ser.iloc[0]) instead\n",
      "  data[column]=data[column].fillna(float(mode_value))\n"
     ]
    },
    {
     "name": "stdout",
     "output_type": "stream",
     "text": [
      "The f1_score is 0.9048159173180934\n"
     ]
    }
   ],
   "source": [
    "import pandas as pd\n",
    "from sklearn.model_selection import train_test_split\n",
    "from sklearn.svm import SVC\n",
    "from sklearn.metrics import f1_score\n",
    "\n",
    "#数据加载与数据清洗（众数填充）\n",
    "data = pd.read_csv('fraudulent.csv')\n",
    "for column in data.columns:\n",
    "    mode_value=data[column].mode()\n",
    "    data[column]=data[column].fillna(float(mode_value))\n",
    "y=data['y']\n",
    "data=data.drop('y',axis=1)\n",
    "X=data\n",
    "#划分数据集，训练集比例0.8，随机种子1\n",
    "X_train,X_test,y_train,y_test=train_test_split(X,y,test_size=0.2,random_state=1)\n",
    "#训练SVM\n",
    "svm=SVC(kernel='linear',random_state=42)\n",
    "svm.fit(X_train,y_train)\n",
    "#预测与评估\n",
    "y_pred=svm.predict(X_test)\n",
    "print(f'The f1_score is {f1_score(y_test,y_pred,average='weighted')}')\n"
   ]
  }
 ],
 "metadata": {
  "kernelspec": {
   "display_name": "Python 3",
   "language": "python",
   "name": "python3"
  },
  "language_info": {
   "codemirror_mode": {
    "name": "ipython",
    "version": 3
   },
   "file_extension": ".py",
   "mimetype": "text/x-python",
   "name": "python",
   "nbconvert_exporter": "python",
   "pygments_lexer": "ipython3",
   "version": "3.12.4"
  }
 },
 "nbformat": 4,
 "nbformat_minor": 2
}
