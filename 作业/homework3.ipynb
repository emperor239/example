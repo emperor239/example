{
 "cells": [
  {
   "cell_type": "code",
   "execution_count": 1,
   "metadata": {},
   "outputs": [
    {
     "name": "stdout",
     "output_type": "stream",
     "text": [
      "是质数\n"
     ]
    }
   ],
   "source": [
    "#第一题\n",
    "#输入示例7\n",
    "import math\n",
    "a=int(input())\n",
    "if a==1:\n",
    "    print(\"不是质数\")\n",
    "else:\n",
    "    flag=1\n",
    "    for i in range(2,int(math.sqrt(a))+1):\n",
    "        if a%i==0:\n",
    "            flag=0\n",
    "            break\n",
    "    if flag==1:\n",
    "        print(\"是质数\")\n",
    "    else:\n",
    "        print(\"不是质数\")"
   ]
  },
  {
   "cell_type": "code",
   "execution_count": 2,
   "metadata": {},
   "outputs": [
    {
     "name": "stdout",
     "output_type": "stream",
     "text": [
      "[ 103  741 1187 1287 1427 1565 1669 1753 2127 2756 2824 2978 3411 3508\n",
      " 3751 4166 4547 5104 5370 5553 5996 6487 6676 6927 7690 7928 8844 8979\n",
      " 9231 9713]\n"
     ]
    }
   ],
   "source": [
    "#第二题\n",
    "#插入排序\n",
    "#输入示例30个介于0到10000的int\n",
    "import numpy as np\n",
    "N=30\n",
    "a=np.random.randint(0,10000,N)\n",
    "#print(a)\n",
    "for i in range(1,N):\n",
    "    t=a[i]\n",
    "    j=i-1\n",
    "    while t<a[j] and j>=0:#python的for不会结束时增加1\n",
    "        a[j+1]=a[j]\n",
    "        j=j-1\n",
    "    a[j+1]=t\n",
    "print(a)"
   ]
  },
  {
   "cell_type": "code",
   "execution_count": 3,
   "metadata": {},
   "outputs": [
    {
     "name": "stdout",
     "output_type": "stream",
     "text": [
      "[  36 1125 1271 2227 2647 3026 3619 3653 4388 4453 4583 5272 5615 5645\n",
      " 5655 5733 6817 6942 7566 7566 7773 7901 8029 8154 8445 8839 8978 9131\n",
      " 9503 9998]\n"
     ]
    }
   ],
   "source": [
    "#第三题\n",
    "#选择排序\n",
    "#输入示例30个介于0到10000的int\n",
    "import numpy as np\n",
    "N=30\n",
    "a=np.random.randint(0,10000,N)\n",
    "for i in range(0,N):\n",
    "    t=i\n",
    "    for j in range(i,N):\n",
    "        if a[j]<a[t]:\n",
    "            t=j\n",
    "    a[i],a[t]=a[t],a[i]\n",
    "print(a)"
   ]
  },
  {
   "cell_type": "code",
   "execution_count": 4,
   "metadata": {},
   "outputs": [
    {
     "name": "stdout",
     "output_type": "stream",
     "text": [
      "[ 701  790  944 1405 1452 1519 1596 2092 2880 2925 2954 4109 4128 4248\n",
      " 4458 4649 5267 5551 5888 6466 6692 7234 7468 7837 8387 9229 9274 9600\n",
      " 9686 9888]\n"
     ]
    }
   ],
   "source": [
    "#第四题\n",
    "#快速排序\n",
    "#输入示例30个介于0到10000的int\n",
    "import sys\n",
    "sys.setrecursionlimit(10000)\n",
    "def partition(a,p,r):\n",
    "    x=a[r]\n",
    "    i=p-1\n",
    "    for j in range(p,r):\n",
    "        if a[j]<=x:\n",
    "            i=i+1\n",
    "            a[i],a[j]=a[j],a[i]\n",
    "    a[i+1],a[r]=a[r],a[i+1]\n",
    "    return i+1\n",
    "def quicksort(a,p,r):\n",
    "    if p<r:\n",
    "        k=partition(a,p,r)\n",
    "        quicksort(a,p,k-1)\n",
    "        quicksort(a,k+1,r)\n",
    "import numpy as np\n",
    "N=30\n",
    "a=np.random.randint(0,10000,N)\n",
    "quicksort(a,0,N-1)\n",
    "print(a)"
   ]
  },
  {
   "cell_type": "code",
   "execution_count": 8,
   "metadata": {},
   "outputs": [
    {
     "name": "stdout",
     "output_type": "stream",
     "text": [
      "数组原先为[4138 8303 9664 ... 8928 3813 6501]\n",
      "选择排序后的数列，排序开销为0.001254秒\n",
      "[  34  129  233 ... 9807 9871 9997]\n",
      "\n",
      "数组原先为[2602 7226 3067 ...  272 1699 2032]\n",
      "归并排序后的数列，排序开销为0.000667秒\n",
      "[ 170  204  272 ... 9711 9928 9940]\n",
      "\n",
      "数组原先为[1295 9557 3375 ... 1144 3850 8622]\n",
      "冒泡排序后的数列，排序开销为0.003676秒\n",
      "[ 335  557  688 ... 9863 9920 9969]\n"
     ]
    }
   ],
   "source": [
    "#第五题\n",
    "#输入数据规模为100时\n",
    "import sys\n",
    "import numpy as np\n",
    "import time\n",
    "sys.setrecursionlimit(10000)\n",
    "np.set_printoptions(threshold=2)\n",
    "\n",
    "def selectionsort(a):\n",
    "    for i in range(0,N):\n",
    "        t=i\n",
    "        for j in range(i,N):\n",
    "            if a[j]<a[t]:\n",
    "                t=j\n",
    "        a[i],a[t]=a[t],a[i]\n",
    "\n",
    "def mergesort(a,p,r):\n",
    "    if p<r:\n",
    "        mid=int((p+r)/2)\n",
    "        mergesort(a,p,mid)\n",
    "        mergesort(a,mid+1,r)\n",
    "        merge(a,p,mid,r)\n",
    "def merge(a,p,mid,r):\n",
    "    a1=list(a[p:mid+1])\n",
    "    a1.append(100000)\n",
    "    a2=list(a[mid+1:r+1])\n",
    "    a2.append(100000)\n",
    "    i=j=k=0\n",
    "    while not(i==len(a1)-1 and j==len(a2)-1):\n",
    "        if a1[i]>a2[j]:\n",
    "            a[p+k]=a2[j]\n",
    "            j=j+1\n",
    "        else:\n",
    "            a[p+k]=a1[i]\n",
    "            i=i+1\n",
    "        k=k+1\n",
    "\n",
    "def bubblesort(a):\n",
    "    for i in range(N-2,0-1,-1):\n",
    "        for j in range(0,i+1):\n",
    "            if a[j]>a[j+1]:\n",
    "                a[j],a[j+1]=a[j+1],a[j]        \n",
    "\n",
    "N=100\n",
    "\n",
    "a=np.random.randint(0,10000,N)\n",
    "print(\"数组原先为\",end='')\n",
    "print(a)\n",
    "start=time.perf_counter()\n",
    "selectionsort(a)\n",
    "end=time.perf_counter()\n",
    "print(\"选择排序后的数列，排序开销为%.6f秒\"%(end-start))\n",
    "print(a)\n",
    "print()\n",
    "\n",
    "b=np.random.randint(0,10000,N)\n",
    "print(\"数组原先为\",end='')\n",
    "print(b)\n",
    "start=time.perf_counter()\n",
    "mergesort(b,0,N-1)\n",
    "end=time.perf_counter()\n",
    "print(\"归并排序后的数列，排序开销为%.6f秒\"%(end-start))\n",
    "print(b)\n",
    "print()\n",
    "\n",
    "c=np.random.randint(0,10000,N)\n",
    "print(\"数组原先为\",end='')\n",
    "print(c)\n",
    "start=time.perf_counter()\n",
    "bubblesort(c)\n",
    "end=time.perf_counter()\n",
    "print(\"冒泡排序后的数列，排序开销为%.6f秒\"%(end-start))\n",
    "print(c)"
   ]
  },
  {
   "cell_type": "code",
   "execution_count": 9,
   "metadata": {},
   "outputs": [
    {
     "name": "stdout",
     "output_type": "stream",
     "text": [
      "数组原先为[3321  532 2781 ... 4473 9857 1708]\n",
      "选择排序后的数列，排序开销为0.118592秒\n",
      "[   0    7   22 ... 9991 9992 9992]\n",
      "\n",
      "数组原先为[2993 6041 8263 ... 8669 6231 8318]\n",
      "归并排序后的数列，排序开销为0.006003秒\n",
      "[   6    7   13 ... 9961 9977 9985]\n",
      "\n",
      "数组原先为[7735 3489  953 ...  782 9606 6651]\n",
      "冒泡排序后的数列，排序开销为0.220302秒\n",
      "[   1    8   21 ... 9958 9962 9988]\n"
     ]
    }
   ],
   "source": [
    "#第五题\n",
    "#输入数据规模为1000时\n",
    "import sys\n",
    "import numpy as np\n",
    "import time\n",
    "sys.setrecursionlimit(10000)\n",
    "np.set_printoptions(threshold=2)\n",
    "\n",
    "def selectionsort(a):\n",
    "    for i in range(0,N):\n",
    "        t=i\n",
    "        for j in range(i,N):\n",
    "            if a[j]<a[t]:\n",
    "                t=j\n",
    "        a[i],a[t]=a[t],a[i]\n",
    "\n",
    "def mergesort(a,p,r):\n",
    "    if p<r:\n",
    "        mid=int((p+r)/2)\n",
    "        mergesort(a,p,mid)\n",
    "        mergesort(a,mid+1,r)\n",
    "        merge(a,p,mid,r)\n",
    "def merge(a,p,mid,r):\n",
    "    a1=list(a[p:mid+1])\n",
    "    a1.append(100000)\n",
    "    a2=list(a[mid+1:r+1])\n",
    "    a2.append(100000)\n",
    "    i=j=k=0\n",
    "    while not(i==len(a1)-1 and j==len(a2)-1):\n",
    "        if a1[i]>a2[j]:\n",
    "            a[p+k]=a2[j]\n",
    "            j=j+1\n",
    "        else:\n",
    "            a[p+k]=a1[i]\n",
    "            i=i+1\n",
    "        k=k+1\n",
    "\n",
    "def bubblesort(a):\n",
    "    for i in range(N-2,0-1,-1):\n",
    "        for j in range(0,i+1):\n",
    "            if a[j]>a[j+1]:\n",
    "                a[j],a[j+1]=a[j+1],a[j]        \n",
    "\n",
    "N=1000\n",
    "\n",
    "a=np.random.randint(0,10000,N)\n",
    "print(\"数组原先为\",end='')\n",
    "print(a)\n",
    "start=time.perf_counter()\n",
    "selectionsort(a)\n",
    "end=time.perf_counter()\n",
    "print(\"选择排序后的数列，排序开销为%.6f秒\"%(end-start))\n",
    "print(a)\n",
    "print()\n",
    "\n",
    "b=np.random.randint(0,10000,N)\n",
    "print(\"数组原先为\",end='')\n",
    "print(b)\n",
    "start=time.perf_counter()\n",
    "mergesort(b,0,N-1)\n",
    "end=time.perf_counter()\n",
    "print(\"归并排序后的数列，排序开销为%.6f秒\"%(end-start))\n",
    "print(b)\n",
    "print()\n",
    "\n",
    "c=np.random.randint(0,10000,N)\n",
    "print(\"数组原先为\",end='')\n",
    "print(c)\n",
    "start=time.perf_counter()\n",
    "bubblesort(c)\n",
    "end=time.perf_counter()\n",
    "print(\"冒泡排序后的数列，排序开销为%.6f秒\"%(end-start))\n",
    "print(c)"
   ]
  },
  {
   "cell_type": "code",
   "execution_count": 10,
   "metadata": {},
   "outputs": [
    {
     "name": "stdout",
     "output_type": "stream",
     "text": [
      "数组原先为[7994 7065 2761 ... 3447 5002 7119]\n",
      "选择排序后的数列，排序开销为9.569539秒\n",
      "[   0    4    5 ... 9996 9997 9998]\n",
      "\n",
      "数组原先为[4160 9581 6982 ... 9145 5564 9472]\n",
      "归并排序后的数列，排序开销为0.070698秒\n",
      "[   0    1    3 ... 9996 9996 9996]\n",
      "\n",
      "数组原先为[9151 2206 5263 ...  453 7962  363]\n",
      "冒泡排序后的数列，排序开销为21.214894秒\n",
      "[   0    0    0 ... 9998 9999 9999]\n"
     ]
    }
   ],
   "source": [
    "#第五题\n",
    "#输入数据规模为10000时\n",
    "import sys\n",
    "import numpy as np\n",
    "import time\n",
    "sys.setrecursionlimit(10000)\n",
    "np.set_printoptions(threshold=2)\n",
    "\n",
    "def selectionsort(a):\n",
    "    for i in range(0,N):\n",
    "        t=i\n",
    "        for j in range(i,N):\n",
    "            if a[j]<a[t]:\n",
    "                t=j\n",
    "        a[i],a[t]=a[t],a[i]\n",
    "\n",
    "def mergesort(a,p,r):\n",
    "    if p<r:\n",
    "        mid=int((p+r)/2)\n",
    "        mergesort(a,p,mid)\n",
    "        mergesort(a,mid+1,r)\n",
    "        merge(a,p,mid,r)\n",
    "def merge(a,p,mid,r):\n",
    "    a1=list(a[p:mid+1])\n",
    "    a1.append(100000)\n",
    "    a2=list(a[mid+1:r+1])\n",
    "    a2.append(100000)\n",
    "    i=j=k=0\n",
    "    while not(i==len(a1)-1 and j==len(a2)-1):\n",
    "        if a1[i]>a2[j]:\n",
    "            a[p+k]=a2[j]\n",
    "            j=j+1\n",
    "        else:\n",
    "            a[p+k]=a1[i]\n",
    "            i=i+1\n",
    "        k=k+1\n",
    "\n",
    "def bubblesort(a):\n",
    "    for i in range(N-2,0-1,-1):\n",
    "        for j in range(0,i+1):\n",
    "            if a[j]>a[j+1]:\n",
    "                a[j],a[j+1]=a[j+1],a[j]        \n",
    "\n",
    "N=10000\n",
    "\n",
    "a=np.random.randint(0,10000,N)\n",
    "print(\"数组原先为\",end='')\n",
    "print(a)\n",
    "start=time.perf_counter()\n",
    "selectionsort(a)\n",
    "end=time.perf_counter()\n",
    "print(\"选择排序后的数列，排序开销为%.6f秒\"%(end-start))\n",
    "print(a)\n",
    "print()\n",
    "\n",
    "b=np.random.randint(0,10000,N)\n",
    "print(\"数组原先为\",end='')\n",
    "print(b)\n",
    "start=time.perf_counter()\n",
    "mergesort(b,0,N-1)\n",
    "end=time.perf_counter()\n",
    "print(\"归并排序后的数列，排序开销为%.6f秒\"%(end-start))\n",
    "print(b)\n",
    "print()\n",
    "\n",
    "c=np.random.randint(0,10000,N)\n",
    "print(\"数组原先为\",end='')\n",
    "print(c)\n",
    "start=time.perf_counter()\n",
    "bubblesort(c)\n",
    "end=time.perf_counter()\n",
    "print(\"冒泡排序后的数列，排序开销为%.6f秒\"%(end-start))\n",
    "print(c)"
   ]
  },
  {
   "cell_type": "markdown",
   "metadata": {},
   "source": [
    "给定一个数据规模为n的数组，数据规模增大10倍\n",
    "选择排序：原址排序，时间复杂度为Ω(n^2)，时间开销增加约100倍\n",
    "归并排序：不是原址排序，时间复杂度为Ω(nlog(n))，时间开销增加约20倍\n",
    "冒泡排序：原址排序，时间复杂度为Ω(n^2)，时间开销增加约100倍"
   ]
  },
  {
   "cell_type": "code",
   "execution_count": 6,
   "metadata": {},
   "outputs": [
    {
     "name": "stdout",
     "output_type": "stream",
     "text": [
      "2024-10-15 23:24:48.559316\n"
     ]
    }
   ],
   "source": [
    "#第六题\n",
    "import datetime\n",
    "print(datetime.datetime.now())"
   ]
  },
  {
   "cell_type": "code",
   "execution_count": 16,
   "metadata": {},
   "outputs": [
    {
     "name": "stdout",
     "output_type": "stream",
     "text": [
      "语文平均分 82.60\n",
      "数学平均分 81.00\n",
      "英语平均分 81.80\n"
     ]
    }
   ],
   "source": [
    "#第七题\n",
    "import pandas as pd\n",
    "import numpy as np\n",
    "df=pd.read_csv('stuGrade.csv')\n",
    "#print(df)\n",
    "print(\"语文平均分 %.2f\"%np.mean(df['chinese'].values))\n",
    "print(\"数学平均分 %.2f\"%np.mean(df['math'].values))\n",
    "print(\"英语平均分 %.2f\"%np.mean(df['english'].values))\n",
    "\n",
    "\n",
    "\n",
    "#第八题\n",
    "import datetime\n",
    "import time\n",
    "with open(\"my.txt\",'w',encoding=\"utf-8\") as f:\n",
    "    # f.write(\"语文\")\n",
    "    f.write(\"10235501426,\"+\"娄屹宏\"+\"\\n\")\n",
    "\n",
    "    f.write(\"%.2f,%.2f,%.2f\\n\"%(np.mean(df['chinese'].values),\n",
    "                                np.mean(df['math'].values),\n",
    "                                np.mean(df['english'].values)))\n",
    "\n",
    "    f.write(str(datetime.datetime.now().strftime(\"%Y-%m-%d %H:%M:%S\"))+'\\n')    \n",
    "    time.sleep(2)\n",
    "    f.write(str(datetime.datetime.now().strftime(\"%Y-%m-%d %H:%M:%S\")))  "
   ]
  }
 ],
 "metadata": {
  "kernelspec": {
   "display_name": "Python 3",
   "language": "python",
   "name": "python3"
  },
  "language_info": {
   "codemirror_mode": {
    "name": "ipython",
    "version": 3
   },
   "file_extension": ".py",
   "mimetype": "text/x-python",
   "name": "python",
   "nbconvert_exporter": "python",
   "pygments_lexer": "ipython3",
   "version": "3.12.4"
  }
 },
 "nbformat": 4,
 "nbformat_minor": 2
}
